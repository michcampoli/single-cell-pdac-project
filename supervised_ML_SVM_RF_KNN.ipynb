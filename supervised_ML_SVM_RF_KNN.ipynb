{
  "cells": [
    {
      "cell_type": "markdown",
      "source": [
        "# **main dataset (PAAD CRA) SVM RF KNN**"
      ],
      "metadata": {
        "id": "A_EP2co9Z_RF"
      }
    },
    {
      "cell_type": "code",
      "execution_count": null,
      "metadata": {
        "id": "9Jze-njCJP1E"
      },
      "outputs": [],
      "source": [
        "# Imports   \n",
        "import numpy as np   \n",
        "import pandas as pd\n",
        "import matplotlib.pyplot as plt\n",
        "import seaborn as sns\n",
        "import scipy\n",
        "import sklearn\n",
        "from sklearn import svm\n",
        "from sklearn.model_selection import train_test_split\n",
        "from sklearn.metrics import roc_auc_score, precision_score, recall_score, accuracy_score, confusion_matrix\n"
      ]
    },
    {
      "cell_type": "code",
      "execution_count": null,
      "metadata": {
        "colab": {
          "base_uri": "https://localhost:8080/"
        },
        "id": "gNkPOO-Y_x3V",
        "outputId": "96035976-ade4-4bc2-b1b6-8d0f234ae74e"
      },
      "outputs": [
        {
          "output_type": "stream",
          "name": "stdout",
          "text": [
            "Mounted at /gdrive\n"
          ]
        }
      ],
      "source": [
        "# Mounting GoogleDrive where data is stored\n",
        "from google.colab import drive\n",
        "drive.mount('/gdrive', force_remount=True)"
      ]
    },
    {
      "cell_type": "code",
      "source": [
        "#filename = 'svm_linear_model_first_7pt.sav'\n",
        "directory = '/gdrive/My Drive/BMEN4480_Final_Project/'\n"
      ],
      "metadata": {
        "id": "mWa9pi9jrM4z"
      },
      "execution_count": null,
      "outputs": []
    },
    {
      "cell_type": "markdown",
      "metadata": {
        "id": "vdYPXKdpAeLu"
      },
      "source": [
        "# **data import**"
      ]
    },
    {
      "cell_type": "code",
      "execution_count": null,
      "metadata": {
        "id": "BcLsBvaZJsig"
      },
      "outputs": [],
      "source": [
        "# Import data\n",
        "# Use the below to import the data in chuncks. This will take about 20-25 minutes\n",
        "# THIS IS THE BIG FILE\n",
        "# from pandas import *\n",
        "tp = pd.read_csv(r'/gdrive/My Drive/BMEN4480_Final_Project/BMEN4480_data_log_prescvi_cell_types.csv', iterator=True, chunksize=10000)\n",
        "df = pd.concat(tp, ignore_index=True) \n"
      ]
    },
    {
      "cell_type": "code",
      "source": [
        "# save this now for SVM\n",
        "features_names = df.columns[1:19001].to_numpy() #feature names"
      ],
      "metadata": {
        "id": "1JmJIYOR9Tkh"
      },
      "execution_count": null,
      "outputs": []
    },
    {
      "cell_type": "code",
      "execution_count": null,
      "metadata": {
        "colab": {
          "base_uri": "https://localhost:8080/"
        },
        "id": "jhL_M012_u3C",
        "outputId": "ba2c55d1-7665-4114-da05-91890d6d9e73"
      },
      "outputs": [
        {
          "output_type": "stream",
          "name": "stdout",
          "text": [
            "(57443, 19002)\n"
          ]
        },
        {
          "output_type": "execute_result",
          "data": {
            "text/plain": [
              "normal           43849\n",
              "tumor class 1    11344\n",
              "tumor class 2     2250\n",
              "Name: cell_type, dtype: int64"
            ]
          },
          "metadata": {},
          "execution_count": 5
        }
      ],
      "source": [
        "# Check file and counts per class\n",
        "print(df.shape)\n",
        "df.cell_type.value_counts()"
      ]
    },
    {
      "cell_type": "code",
      "execution_count": null,
      "metadata": {
        "id": "bfpv46Dx_u3D"
      },
      "outputs": [],
      "source": [
        "# 3 CLASSES\n",
        "\n",
        "# change classes to 0, 1, 2\n",
        "tumor = {'tumor class 1': 1, 'tumor class 2': 2, 'normal':0}\n",
        "df.cell_type = [tumor[item] for item in df.cell_type]"
      ]
    },
    {
      "cell_type": "code",
      "source": [
        "# 2 CLASSES\n",
        "\n",
        "# change classes to 0, 1\n",
        "tumor = {'tumor class 1': 1, 'tumor class 2': 1, 'normal':0}\n",
        "df.cell_type = [tumor[item] for item in df.cell_type]"
      ],
      "metadata": {
        "id": "4R-Ibqox2N8-"
      },
      "execution_count": null,
      "outputs": []
    },
    {
      "cell_type": "code",
      "execution_count": null,
      "metadata": {
        "id": "EiNwCuuM_u3D"
      },
      "outputs": [],
      "source": [
        "# Rename the first column Cell\n",
        "df = df.rename(columns={\"Unnamed: 0\": \"Cell\"})"
      ]
    },
    {
      "cell_type": "code",
      "execution_count": null,
      "metadata": {
        "id": "3LPTJmmLqLd9",
        "scrolled": true
      },
      "outputs": [],
      "source": [
        "# create a new variable to identify patients (from the first two letters of the cell name)\n",
        "df['Patient'] = df.Cell.str[:3]"
      ]
    },
    {
      "cell_type": "code",
      "execution_count": null,
      "metadata": {
        "colab": {
          "base_uri": "https://localhost:8080/"
        },
        "id": "etI-K4Ft_u3E",
        "outputId": "726cca9f-353c-4dcc-c3cf-ad41c0b9b44a"
      },
      "outputs": [
        {
          "output_type": "execute_result",
          "data": {
            "text/plain": [
              "T11    3141\n",
              "T2_    3040\n",
              "T19    2927\n",
              "T23    2865\n",
              "N1_    2823\n",
              "N9_    2468\n",
              "T9_    2354\n",
              "T12    2269\n",
              "T22    2215\n",
              "T17    2085\n",
              "T13    2058\n",
              "T14    1998\n",
              "N2_    1956\n",
              "T15    1956\n",
              "T6_    1871\n",
              "T24    1811\n",
              "T16    1634\n",
              "T18    1562\n",
              "N10    1522\n",
              "N11    1365\n",
              "T3_    1316\n",
              "N8_    1191\n",
              "T1_    1171\n",
              "T5_    1115\n",
              "N7_    1114\n",
              "T4_    1027\n",
              "N4_     974\n",
              "N5_     885\n",
              "T10     828\n",
              "T21     807\n",
              "T7_     747\n",
              "N6_     717\n",
              "T8_     697\n",
              "T20     482\n",
              "N3_     452\n",
              "Name: Patient, dtype: int64"
            ]
          },
          "metadata": {},
          "execution_count": 9
        }
      ],
      "source": [
        "# look at cells per patient to choose a smaller dataset to work with\n",
        "df.Patient.value_counts()"
      ]
    },
    {
      "cell_type": "code",
      "execution_count": null,
      "metadata": {
        "id": "Njw967YQgS1N"
      },
      "outputs": [],
      "source": [
        "# extract random sample from the big file to create a work file\n",
        "# THIS IS THE SMALLER FILE TO BE USED TO TEST THE PROGRAM\n",
        "\n",
        "# choose by patient, so can stratify by patient and avoid batch effects\n",
        "\n",
        "small_df = df[df.Patient.isin(['T11','T2_','T19','T23','N1_','N9_','T9_','T12','T22'])] #more cells/patient, less patients. top list\n",
        "# small_df = df[df.Patient.isin(['N3_','T20','T8_','N6','T7_','T21','T10','N5_','N4_','T4_','N7_','T5_','T1_','N8_','N8_','T3_','N11','N10','T18','T16'])] # bottom list"
      ]
    },
    {
      "cell_type": "code",
      "source": [
        "del df"
      ],
      "metadata": {
        "id": "DUg7aiav3fI3"
      },
      "execution_count": null,
      "outputs": []
    },
    {
      "cell_type": "code",
      "source": [
        "small_df.cell_type.value_counts()"
      ],
      "metadata": {
        "colab": {
          "base_uri": "https://localhost:8080/"
        },
        "id": "NWRcCCoH1Gq8",
        "outputId": "a0c09f4b-acb3-4ff2-85d6-4631bb8799ff"
      },
      "execution_count": null,
      "outputs": [
        {
          "output_type": "execute_result",
          "data": {
            "text/plain": [
              "0    19693\n",
              "1     4409\n",
              "Name: cell_type, dtype: int64"
            ]
          },
          "metadata": {},
          "execution_count": 11
        }
      ]
    },
    {
      "cell_type": "code",
      "execution_count": null,
      "metadata": {
        "id": "9KvuYDIy_u3F"
      },
      "outputs": [],
      "source": [
        "# create train and test samples stratified by patient\n",
        "from sklearn.model_selection import train_test_split\n",
        "small_df_train, small_df_test = train_test_split(small_df, test_size=0.2, stratify=small_df[[\"Patient\"]])"
      ]
    },
    {
      "cell_type": "code",
      "source": [
        "del small_df"
      ],
      "metadata": {
        "id": "c0e146Mp3kT-"
      },
      "execution_count": null,
      "outputs": []
    },
    {
      "cell_type": "code",
      "execution_count": null,
      "metadata": {
        "id": "JEApH-kU_u3F"
      },
      "outputs": [],
      "source": [
        "# Remove class, cell name, and patient name from X. just genes.\n",
        "X_Test = small_df_test.drop(columns=['cell_type','Cell','Patient']).to_numpy()"
      ]
    },
    {
      "cell_type": "code",
      "source": [
        "Y_Test = small_df_test[['cell_type']]\n",
        "Y_Test = Y_Test.to_numpy().flatten()"
      ],
      "metadata": {
        "id": "Kio8UKLCh845"
      },
      "execution_count": null,
      "outputs": []
    },
    {
      "cell_type": "code",
      "execution_count": null,
      "metadata": {
        "id": "GphGvzmQ_u3F"
      },
      "outputs": [],
      "source": [
        "# create np.array for X\n",
        "X_Train = small_df_train.drop(columns=['cell_type','Patient','Cell']).to_numpy()"
      ]
    },
    {
      "cell_type": "code",
      "execution_count": null,
      "metadata": {
        "id": "iVv9OtYa_u3F"
      },
      "outputs": [],
      "source": [
        "# create np.array for Y\n",
        "Y_Train = small_df_train[['cell_type']]\n",
        "Y_Train = Y_Train.to_numpy().flatten()"
      ]
    },
    {
      "cell_type": "code",
      "source": [
        "del small_df_test, small_df_train"
      ],
      "metadata": {
        "id": "P7MvL8yy97LV"
      },
      "execution_count": null,
      "outputs": []
    },
    {
      "cell_type": "markdown",
      "metadata": {
        "id": "0nJgn-hnf8Hf"
      },
      "source": [
        "# **meta data-- not used**"
      ]
    },
    {
      "cell_type": "code",
      "execution_count": null,
      "metadata": {
        "colab": {
          "base_uri": "https://localhost:8080/",
          "height": 472
        },
        "id": "fYr-L5suFa84",
        "outputId": "cf098150-980a-4d9d-b2a9-f4a7d34b0f1c"
      },
      "outputs": [
        {
          "data": {
            "text/html": [
              "\n",
              "  <div id=\"df-892ebb93-2a72-4e58-ad8e-0623433264a0\">\n",
              "    <div class=\"colab-df-container\">\n",
              "      <div>\n",
              "<style scoped>\n",
              "    .dataframe tbody tr th:only-of-type {\n",
              "        vertical-align: middle;\n",
              "    }\n",
              "\n",
              "    .dataframe tbody tr th {\n",
              "        vertical-align: top;\n",
              "    }\n",
              "\n",
              "    .dataframe thead th {\n",
              "        text-align: right;\n",
              "    }\n",
              "</style>\n",
              "<table border=\"1\" class=\"dataframe\">\n",
              "  <thead>\n",
              "    <tr style=\"text-align: right;\">\n",
              "      <th></th>\n",
              "      <th>Cell</th>\n",
              "      <th>UMAP_1</th>\n",
              "      <th>UMAP_2</th>\n",
              "      <th>Celltype (malignancy)</th>\n",
              "      <th>Celltype (major-lineage)</th>\n",
              "      <th>Celltype (minor-lineage)</th>\n",
              "      <th>Celltype (original)</th>\n",
              "      <th>Cluster</th>\n",
              "      <th>Celltype</th>\n",
              "      <th>Patient</th>\n",
              "      <th>Source</th>\n",
              "      <th>Age</th>\n",
              "      <th>Gender</th>\n",
              "      <th>Stage</th>\n",
              "      <th>TNMstage</th>\n",
              "    </tr>\n",
              "  </thead>\n",
              "  <tbody>\n",
              "    <tr>\n",
              "      <th>0</th>\n",
              "      <td>T2_AAAGATGAGCTTCGCG</td>\n",
              "      <td>-1.155559</td>\n",
              "      <td>-4.607106</td>\n",
              "      <td>Others</td>\n",
              "      <td>Acinar</td>\n",
              "      <td>Acinar</td>\n",
              "      <td>Acinar cell</td>\n",
              "      <td>16</td>\n",
              "      <td>Acinar cell</td>\n",
              "      <td>T2</td>\n",
              "      <td>Tumor</td>\n",
              "      <td>52</td>\n",
              "      <td>Male</td>\n",
              "      <td>Primary</td>\n",
              "      <td>IIB</td>\n",
              "    </tr>\n",
              "    <tr>\n",
              "      <th>1</th>\n",
              "      <td>T2_AAATGCCCAAGCCGCT</td>\n",
              "      <td>-1.730514</td>\n",
              "      <td>-5.563408</td>\n",
              "      <td>Others</td>\n",
              "      <td>Acinar</td>\n",
              "      <td>Acinar</td>\n",
              "      <td>Acinar cell</td>\n",
              "      <td>23</td>\n",
              "      <td>Acinar cell</td>\n",
              "      <td>T2</td>\n",
              "      <td>Tumor</td>\n",
              "      <td>52</td>\n",
              "      <td>Male</td>\n",
              "      <td>Primary</td>\n",
              "      <td>IIB</td>\n",
              "    </tr>\n",
              "    <tr>\n",
              "      <th>2</th>\n",
              "      <td>T2_AAGGCAGCAGGGAGAG</td>\n",
              "      <td>-1.028118</td>\n",
              "      <td>-5.898004</td>\n",
              "      <td>Others</td>\n",
              "      <td>Acinar</td>\n",
              "      <td>Acinar</td>\n",
              "      <td>Acinar cell</td>\n",
              "      <td>23</td>\n",
              "      <td>Acinar cell</td>\n",
              "      <td>T2</td>\n",
              "      <td>Tumor</td>\n",
              "      <td>52</td>\n",
              "      <td>Male</td>\n",
              "      <td>Primary</td>\n",
              "      <td>IIB</td>\n",
              "    </tr>\n",
              "    <tr>\n",
              "      <th>3</th>\n",
              "      <td>T2_ACACTGAAGACCACGA</td>\n",
              "      <td>-1.945103</td>\n",
              "      <td>-5.715586</td>\n",
              "      <td>Others</td>\n",
              "      <td>Acinar</td>\n",
              "      <td>Acinar</td>\n",
              "      <td>Acinar cell</td>\n",
              "      <td>23</td>\n",
              "      <td>Acinar cell</td>\n",
              "      <td>T2</td>\n",
              "      <td>Tumor</td>\n",
              "      <td>52</td>\n",
              "      <td>Male</td>\n",
              "      <td>Primary</td>\n",
              "      <td>IIB</td>\n",
              "    </tr>\n",
              "    <tr>\n",
              "      <th>4</th>\n",
              "      <td>T2_ACACTGATCCTTTCTC</td>\n",
              "      <td>-1.490242</td>\n",
              "      <td>-5.239794</td>\n",
              "      <td>Others</td>\n",
              "      <td>Acinar</td>\n",
              "      <td>Acinar</td>\n",
              "      <td>Acinar cell</td>\n",
              "      <td>23</td>\n",
              "      <td>Acinar cell</td>\n",
              "      <td>T2</td>\n",
              "      <td>Tumor</td>\n",
              "      <td>52</td>\n",
              "      <td>Male</td>\n",
              "      <td>Primary</td>\n",
              "      <td>IIB</td>\n",
              "    </tr>\n",
              "    <tr>\n",
              "      <th>...</th>\n",
              "      <td>...</td>\n",
              "      <td>...</td>\n",
              "      <td>...</td>\n",
              "      <td>...</td>\n",
              "      <td>...</td>\n",
              "      <td>...</td>\n",
              "      <td>...</td>\n",
              "      <td>...</td>\n",
              "      <td>...</td>\n",
              "      <td>...</td>\n",
              "      <td>...</td>\n",
              "      <td>...</td>\n",
              "      <td>...</td>\n",
              "      <td>...</td>\n",
              "      <td>...</td>\n",
              "    </tr>\n",
              "    <tr>\n",
              "      <th>95</th>\n",
              "      <td>T6_ATCGAGTGTAAAGTCA</td>\n",
              "      <td>-0.348774</td>\n",
              "      <td>-3.814863</td>\n",
              "      <td>Others</td>\n",
              "      <td>Acinar</td>\n",
              "      <td>Acinar</td>\n",
              "      <td>Acinar cell</td>\n",
              "      <td>16</td>\n",
              "      <td>Acinar cell</td>\n",
              "      <td>T6</td>\n",
              "      <td>Tumor</td>\n",
              "      <td>64</td>\n",
              "      <td>Male</td>\n",
              "      <td>Primary</td>\n",
              "      <td>IIA</td>\n",
              "    </tr>\n",
              "    <tr>\n",
              "      <th>96</th>\n",
              "      <td>T6_ATCTGCCTCTGTCCGT</td>\n",
              "      <td>-0.638638</td>\n",
              "      <td>-4.775455</td>\n",
              "      <td>Others</td>\n",
              "      <td>Acinar</td>\n",
              "      <td>Acinar</td>\n",
              "      <td>Acinar cell</td>\n",
              "      <td>23</td>\n",
              "      <td>Acinar cell</td>\n",
              "      <td>T6</td>\n",
              "      <td>Tumor</td>\n",
              "      <td>64</td>\n",
              "      <td>Male</td>\n",
              "      <td>Primary</td>\n",
              "      <td>IIA</td>\n",
              "    </tr>\n",
              "    <tr>\n",
              "      <th>97</th>\n",
              "      <td>T6_CACAAACAGGGCACTA</td>\n",
              "      <td>-1.002702</td>\n",
              "      <td>-4.521181</td>\n",
              "      <td>Others</td>\n",
              "      <td>Acinar</td>\n",
              "      <td>Acinar</td>\n",
              "      <td>Acinar cell</td>\n",
              "      <td>16</td>\n",
              "      <td>Acinar cell</td>\n",
              "      <td>T6</td>\n",
              "      <td>Tumor</td>\n",
              "      <td>64</td>\n",
              "      <td>Male</td>\n",
              "      <td>Primary</td>\n",
              "      <td>IIA</td>\n",
              "    </tr>\n",
              "    <tr>\n",
              "      <th>98</th>\n",
              "      <td>T6_CACATTTGTGCACGAA</td>\n",
              "      <td>-0.896367</td>\n",
              "      <td>-5.315763</td>\n",
              "      <td>Others</td>\n",
              "      <td>Acinar</td>\n",
              "      <td>Acinar</td>\n",
              "      <td>Acinar cell</td>\n",
              "      <td>23</td>\n",
              "      <td>Acinar cell</td>\n",
              "      <td>T6</td>\n",
              "      <td>Tumor</td>\n",
              "      <td>64</td>\n",
              "      <td>Male</td>\n",
              "      <td>Primary</td>\n",
              "      <td>IIA</td>\n",
              "    </tr>\n",
              "    <tr>\n",
              "      <th>99</th>\n",
              "      <td>T6_CACCAGGAGCACGCCT</td>\n",
              "      <td>0.244530</td>\n",
              "      <td>-5.205853</td>\n",
              "      <td>Others</td>\n",
              "      <td>Acinar</td>\n",
              "      <td>Acinar</td>\n",
              "      <td>Acinar cell</td>\n",
              "      <td>23</td>\n",
              "      <td>Acinar cell</td>\n",
              "      <td>T6</td>\n",
              "      <td>Tumor</td>\n",
              "      <td>64</td>\n",
              "      <td>Male</td>\n",
              "      <td>Primary</td>\n",
              "      <td>IIA</td>\n",
              "    </tr>\n",
              "  </tbody>\n",
              "</table>\n",
              "<p>100 rows × 15 columns</p>\n",
              "</div>\n",
              "      <button class=\"colab-df-convert\" onclick=\"convertToInteractive('df-892ebb93-2a72-4e58-ad8e-0623433264a0')\"\n",
              "              title=\"Convert this dataframe to an interactive table.\"\n",
              "              style=\"display:none;\">\n",
              "        \n",
              "  <svg xmlns=\"http://www.w3.org/2000/svg\" height=\"24px\"viewBox=\"0 0 24 24\"\n",
              "       width=\"24px\">\n",
              "    <path d=\"M0 0h24v24H0V0z\" fill=\"none\"/>\n",
              "    <path d=\"M18.56 5.44l.94 2.06.94-2.06 2.06-.94-2.06-.94-.94-2.06-.94 2.06-2.06.94zm-11 1L8.5 8.5l.94-2.06 2.06-.94-2.06-.94L8.5 2.5l-.94 2.06-2.06.94zm10 10l.94 2.06.94-2.06 2.06-.94-2.06-.94-.94-2.06-.94 2.06-2.06.94z\"/><path d=\"M17.41 7.96l-1.37-1.37c-.4-.4-.92-.59-1.43-.59-.52 0-1.04.2-1.43.59L10.3 9.45l-7.72 7.72c-.78.78-.78 2.05 0 2.83L4 21.41c.39.39.9.59 1.41.59.51 0 1.02-.2 1.41-.59l7.78-7.78 2.81-2.81c.8-.78.8-2.07 0-2.86zM5.41 20L4 18.59l7.72-7.72 1.47 1.35L5.41 20z\"/>\n",
              "  </svg>\n",
              "      </button>\n",
              "      \n",
              "  <style>\n",
              "    .colab-df-container {\n",
              "      display:flex;\n",
              "      flex-wrap:wrap;\n",
              "      gap: 12px;\n",
              "    }\n",
              "\n",
              "    .colab-df-convert {\n",
              "      background-color: #E8F0FE;\n",
              "      border: none;\n",
              "      border-radius: 50%;\n",
              "      cursor: pointer;\n",
              "      display: none;\n",
              "      fill: #1967D2;\n",
              "      height: 32px;\n",
              "      padding: 0 0 0 0;\n",
              "      width: 32px;\n",
              "    }\n",
              "\n",
              "    .colab-df-convert:hover {\n",
              "      background-color: #E2EBFA;\n",
              "      box-shadow: 0px 1px 2px rgba(60, 64, 67, 0.3), 0px 1px 3px 1px rgba(60, 64, 67, 0.15);\n",
              "      fill: #174EA6;\n",
              "    }\n",
              "\n",
              "    [theme=dark] .colab-df-convert {\n",
              "      background-color: #3B4455;\n",
              "      fill: #D2E3FC;\n",
              "    }\n",
              "\n",
              "    [theme=dark] .colab-df-convert:hover {\n",
              "      background-color: #434B5C;\n",
              "      box-shadow: 0px 1px 3px 1px rgba(0, 0, 0, 0.15);\n",
              "      filter: drop-shadow(0px 1px 2px rgba(0, 0, 0, 0.3));\n",
              "      fill: #FFFFFF;\n",
              "    }\n",
              "  </style>\n",
              "\n",
              "      <script>\n",
              "        const buttonEl =\n",
              "          document.querySelector('#df-892ebb93-2a72-4e58-ad8e-0623433264a0 button.colab-df-convert');\n",
              "        buttonEl.style.display =\n",
              "          google.colab.kernel.accessAllowed ? 'block' : 'none';\n",
              "\n",
              "        async function convertToInteractive(key) {\n",
              "          const element = document.querySelector('#df-892ebb93-2a72-4e58-ad8e-0623433264a0');\n",
              "          const dataTable =\n",
              "            await google.colab.kernel.invokeFunction('convertToInteractive',\n",
              "                                                     [key], {});\n",
              "          if (!dataTable) return;\n",
              "\n",
              "          const docLinkHtml = 'Like what you see? Visit the ' +\n",
              "            '<a target=\"_blank\" href=https://colab.research.google.com/notebooks/data_table.ipynb>data table notebook</a>'\n",
              "            + ' to learn more about interactive tables.';\n",
              "          element.innerHTML = '';\n",
              "          dataTable['output_type'] = 'display_data';\n",
              "          await google.colab.output.renderOutput(dataTable, element);\n",
              "          const docLink = document.createElement('div');\n",
              "          docLink.innerHTML = docLinkHtml;\n",
              "          element.appendChild(docLink);\n",
              "        }\n",
              "      </script>\n",
              "    </div>\n",
              "  </div>\n",
              "  "
            ],
            "text/plain": [
              "                   Cell    UMAP_1    UMAP_2 Celltype (malignancy)  \\\n",
              "0   T2_AAAGATGAGCTTCGCG -1.155559 -4.607106                Others   \n",
              "1   T2_AAATGCCCAAGCCGCT -1.730514 -5.563408                Others   \n",
              "2   T2_AAGGCAGCAGGGAGAG -1.028118 -5.898004                Others   \n",
              "3   T2_ACACTGAAGACCACGA -1.945103 -5.715586                Others   \n",
              "4   T2_ACACTGATCCTTTCTC -1.490242 -5.239794                Others   \n",
              "..                  ...       ...       ...                   ...   \n",
              "95  T6_ATCGAGTGTAAAGTCA -0.348774 -3.814863                Others   \n",
              "96  T6_ATCTGCCTCTGTCCGT -0.638638 -4.775455                Others   \n",
              "97  T6_CACAAACAGGGCACTA -1.002702 -4.521181                Others   \n",
              "98  T6_CACATTTGTGCACGAA -0.896367 -5.315763                Others   \n",
              "99  T6_CACCAGGAGCACGCCT  0.244530 -5.205853                Others   \n",
              "\n",
              "   Celltype (major-lineage) Celltype (minor-lineage) Celltype (original)  \\\n",
              "0                    Acinar                   Acinar         Acinar cell   \n",
              "1                    Acinar                   Acinar         Acinar cell   \n",
              "2                    Acinar                   Acinar         Acinar cell   \n",
              "3                    Acinar                   Acinar         Acinar cell   \n",
              "4                    Acinar                   Acinar         Acinar cell   \n",
              "..                      ...                      ...                 ...   \n",
              "95                   Acinar                   Acinar         Acinar cell   \n",
              "96                   Acinar                   Acinar         Acinar cell   \n",
              "97                   Acinar                   Acinar         Acinar cell   \n",
              "98                   Acinar                   Acinar         Acinar cell   \n",
              "99                   Acinar                   Acinar         Acinar cell   \n",
              "\n",
              "    Cluster     Celltype Patient Source  Age Gender    Stage TNMstage  \n",
              "0        16  Acinar cell      T2  Tumor   52   Male  Primary      IIB  \n",
              "1        23  Acinar cell      T2  Tumor   52   Male  Primary      IIB  \n",
              "2        23  Acinar cell      T2  Tumor   52   Male  Primary      IIB  \n",
              "3        23  Acinar cell      T2  Tumor   52   Male  Primary      IIB  \n",
              "4        23  Acinar cell      T2  Tumor   52   Male  Primary      IIB  \n",
              "..      ...          ...     ...    ...  ...    ...      ...      ...  \n",
              "95       16  Acinar cell      T6  Tumor   64   Male  Primary      IIA  \n",
              "96       23  Acinar cell      T6  Tumor   64   Male  Primary      IIA  \n",
              "97       16  Acinar cell      T6  Tumor   64   Male  Primary      IIA  \n",
              "98       23  Acinar cell      T6  Tumor   64   Male  Primary      IIA  \n",
              "99       23  Acinar cell      T6  Tumor   64   Male  Primary      IIA  \n",
              "\n",
              "[100 rows x 15 columns]"
            ]
          },
          "execution_count": 14,
          "metadata": {},
          "output_type": "execute_result"
        }
      ],
      "source": [
        "# import meta data file\n",
        "# data_meta=pd.read_csv('/gdrive/My Drive/BMEN4480_Final_Project/PAAD_CRA001160_CellMetainfo_table.tsv',sep='\\t')\n",
        "# data_meta.head(10)"
      ]
    },
    {
      "cell_type": "code",
      "execution_count": null,
      "metadata": {
        "colab": {
          "base_uri": "https://localhost:8080/"
        },
        "id": "Vh6p28BEx--7",
        "outputId": "322b0ddf-5bcb-4fb9-f55c-d74defd4ed3a"
      },
      "outputs": [
        {
          "data": {
            "text/plain": [
              "Ductal cell type 2    11314\n",
              "Ductal cell type 1    10317\n",
              "Endothelial cell       9117\n",
              "Fibroblast cell        6741\n",
              "Stellate cell          5907\n",
              "Macrophage cell        5361\n",
              "T cell                 3659\n",
              "B cell                 2447\n",
              "Acinar cell            1854\n",
              "Endocrine cell          726\n",
              "Name: Celltype (original), dtype: int64"
            ]
          },
          "execution_count": 242,
          "metadata": {},
          "output_type": "execute_result"
        }
      ],
      "source": [
        "# see cell types. (not used in final analysis)\n",
        "# data_meta['Celltype (original)'].value_counts()"
      ]
    },
    {
      "cell_type": "code",
      "execution_count": null,
      "metadata": {
        "colab": {
          "base_uri": "https://localhost:8080/"
        },
        "id": "ayslWnu8hTsh",
        "outputId": "cd903e9e-4196-4648-d894-99a9822c4b44"
      },
      "outputs": [
        {
          "data": {
            "text/plain": [
              "(57443, 15)"
            ]
          },
          "execution_count": 243,
          "metadata": {},
          "output_type": "execute_result"
        }
      ],
      "source": [
        "# data_meta.shape"
      ]
    },
    {
      "cell_type": "markdown",
      "metadata": {
        "id": "wi4RzMnhGY3n"
      },
      "source": [
        "# **Logistic Regression-- not used**"
      ]
    },
    {
      "cell_type": "markdown",
      "source": [
        "Can only do for binary classes. Not for multiclass."
      ],
      "metadata": {
        "id": "wJAGo_YgABUr"
      }
    },
    {
      "cell_type": "code",
      "execution_count": null,
      "metadata": {
        "id": "fkwYNK22IoOd"
      },
      "outputs": [],
      "source": [
        "# # logistic regression (not used in final analysis because we switched from binary to multiclass)\n",
        "# from sklearn.linear_model import LogisticRegressionCV\n",
        "# from sklearn.linear_model import LogisticRegression\n",
        "# from sklearn.metrics import confusion_matrix"
      ]
    },
    {
      "cell_type": "code",
      "execution_count": null,
      "metadata": {
        "colab": {
          "base_uri": "https://localhost:8080/"
        },
        "id": "nN4n9boSTikF",
        "outputId": "43e2cde2-c1c3-43ce-a73c-61cde39322ee"
      },
      "outputs": [
        {
          "ename": "TypeError",
          "evalue": "'(slice(None, None, None), slice(None, None, None))' is an invalid key",
          "output_type": "error",
          "traceback": [
            "\u001b[1;31m---------------------------------------------------------------------------\u001b[0m",
            "\u001b[1;31mTypeError\u001b[0m                                 Traceback (most recent call last)",
            "\u001b[1;32m~\\AppData\\Local\\Temp/ipykernel_18884/1264242017.py\u001b[0m in \u001b[0;36m<module>\u001b[1;34m\u001b[0m\n\u001b[0;32m      1\u001b[0m \u001b[0mlist_X\u001b[0m \u001b[1;33m=\u001b[0m \u001b[1;33m[\u001b[0m\u001b[1;33m]\u001b[0m\u001b[1;33m\u001b[0m\u001b[1;33m\u001b[0m\u001b[0m\n\u001b[0;32m      2\u001b[0m \u001b[1;32mfor\u001b[0m \u001b[0mi\u001b[0m \u001b[1;32min\u001b[0m \u001b[0mrange\u001b[0m\u001b[1;33m(\u001b[0m\u001b[0mX\u001b[0m\u001b[1;33m.\u001b[0m\u001b[0mshape\u001b[0m\u001b[1;33m[\u001b[0m\u001b[1;36m1\u001b[0m\u001b[1;33m]\u001b[0m\u001b[1;33m)\u001b[0m\u001b[1;33m:\u001b[0m\u001b[1;33m\u001b[0m\u001b[1;33m\u001b[0m\u001b[0m\n\u001b[1;32m----> 3\u001b[1;33m   \u001b[0mX_i\u001b[0m \u001b[1;33m=\u001b[0m \u001b[0mX\u001b[0m\u001b[1;33m[\u001b[0m\u001b[1;33m:\u001b[0m\u001b[1;33m,\u001b[0m\u001b[1;33m:\u001b[0m\u001b[1;33m]\u001b[0m\u001b[1;33m\u001b[0m\u001b[1;33m\u001b[0m\u001b[0m\n\u001b[0m\u001b[0;32m      4\u001b[0m   \u001b[0mX_i\u001b[0m \u001b[1;33m=\u001b[0m \u001b[0mX_i\u001b[0m\u001b[1;33m.\u001b[0m\u001b[0mreshape\u001b[0m\u001b[1;33m(\u001b[0m\u001b[1;33m-\u001b[0m\u001b[1;36m1\u001b[0m\u001b[1;33m,\u001b[0m\u001b[1;36m1\u001b[0m\u001b[1;33m)\u001b[0m\u001b[1;33m\u001b[0m\u001b[1;33m\u001b[0m\u001b[0m\n\u001b[0;32m      5\u001b[0m   \u001b[0mlist_X\u001b[0m\u001b[1;33m.\u001b[0m\u001b[0mappend\u001b[0m\u001b[1;33m(\u001b[0m\u001b[0mX_i\u001b[0m\u001b[1;33m)\u001b[0m\u001b[1;33m\u001b[0m\u001b[1;33m\u001b[0m\u001b[0m\n",
            "\u001b[1;32m~\\anaconda3\\lib\\site-packages\\pandas\\core\\frame.py\u001b[0m in \u001b[0;36m__getitem__\u001b[1;34m(self, key)\u001b[0m\n\u001b[0;32m   3456\u001b[0m             \u001b[1;32mif\u001b[0m \u001b[0mself\u001b[0m\u001b[1;33m.\u001b[0m\u001b[0mcolumns\u001b[0m\u001b[1;33m.\u001b[0m\u001b[0mnlevels\u001b[0m \u001b[1;33m>\u001b[0m \u001b[1;36m1\u001b[0m\u001b[1;33m:\u001b[0m\u001b[1;33m\u001b[0m\u001b[1;33m\u001b[0m\u001b[0m\n\u001b[0;32m   3457\u001b[0m                 \u001b[1;32mreturn\u001b[0m \u001b[0mself\u001b[0m\u001b[1;33m.\u001b[0m\u001b[0m_getitem_multilevel\u001b[0m\u001b[1;33m(\u001b[0m\u001b[0mkey\u001b[0m\u001b[1;33m)\u001b[0m\u001b[1;33m\u001b[0m\u001b[1;33m\u001b[0m\u001b[0m\n\u001b[1;32m-> 3458\u001b[1;33m             \u001b[0mindexer\u001b[0m \u001b[1;33m=\u001b[0m \u001b[0mself\u001b[0m\u001b[1;33m.\u001b[0m\u001b[0mcolumns\u001b[0m\u001b[1;33m.\u001b[0m\u001b[0mget_loc\u001b[0m\u001b[1;33m(\u001b[0m\u001b[0mkey\u001b[0m\u001b[1;33m)\u001b[0m\u001b[1;33m\u001b[0m\u001b[1;33m\u001b[0m\u001b[0m\n\u001b[0m\u001b[0;32m   3459\u001b[0m             \u001b[1;32mif\u001b[0m \u001b[0mis_integer\u001b[0m\u001b[1;33m(\u001b[0m\u001b[0mindexer\u001b[0m\u001b[1;33m)\u001b[0m\u001b[1;33m:\u001b[0m\u001b[1;33m\u001b[0m\u001b[1;33m\u001b[0m\u001b[0m\n\u001b[0;32m   3460\u001b[0m                 \u001b[0mindexer\u001b[0m \u001b[1;33m=\u001b[0m \u001b[1;33m[\u001b[0m\u001b[0mindexer\u001b[0m\u001b[1;33m]\u001b[0m\u001b[1;33m\u001b[0m\u001b[1;33m\u001b[0m\u001b[0m\n",
            "\u001b[1;32m~\\anaconda3\\lib\\site-packages\\pandas\\core\\indexes\\base.py\u001b[0m in \u001b[0;36mget_loc\u001b[1;34m(self, key, method, tolerance)\u001b[0m\n\u001b[0;32m   3359\u001b[0m             \u001b[0mcasted_key\u001b[0m \u001b[1;33m=\u001b[0m \u001b[0mself\u001b[0m\u001b[1;33m.\u001b[0m\u001b[0m_maybe_cast_indexer\u001b[0m\u001b[1;33m(\u001b[0m\u001b[0mkey\u001b[0m\u001b[1;33m)\u001b[0m\u001b[1;33m\u001b[0m\u001b[1;33m\u001b[0m\u001b[0m\n\u001b[0;32m   3360\u001b[0m             \u001b[1;32mtry\u001b[0m\u001b[1;33m:\u001b[0m\u001b[1;33m\u001b[0m\u001b[1;33m\u001b[0m\u001b[0m\n\u001b[1;32m-> 3361\u001b[1;33m                 \u001b[1;32mreturn\u001b[0m \u001b[0mself\u001b[0m\u001b[1;33m.\u001b[0m\u001b[0m_engine\u001b[0m\u001b[1;33m.\u001b[0m\u001b[0mget_loc\u001b[0m\u001b[1;33m(\u001b[0m\u001b[0mcasted_key\u001b[0m\u001b[1;33m)\u001b[0m\u001b[1;33m\u001b[0m\u001b[1;33m\u001b[0m\u001b[0m\n\u001b[0m\u001b[0;32m   3362\u001b[0m             \u001b[1;32mexcept\u001b[0m \u001b[0mKeyError\u001b[0m \u001b[1;32mas\u001b[0m \u001b[0merr\u001b[0m\u001b[1;33m:\u001b[0m\u001b[1;33m\u001b[0m\u001b[1;33m\u001b[0m\u001b[0m\n\u001b[0;32m   3363\u001b[0m                 \u001b[1;32mraise\u001b[0m \u001b[0mKeyError\u001b[0m\u001b[1;33m(\u001b[0m\u001b[0mkey\u001b[0m\u001b[1;33m)\u001b[0m \u001b[1;32mfrom\u001b[0m \u001b[0merr\u001b[0m\u001b[1;33m\u001b[0m\u001b[1;33m\u001b[0m\u001b[0m\n",
            "\u001b[1;32m~\\anaconda3\\lib\\site-packages\\pandas\\_libs\\index.pyx\u001b[0m in \u001b[0;36mpandas._libs.index.IndexEngine.get_loc\u001b[1;34m()\u001b[0m\n",
            "\u001b[1;32m~\\anaconda3\\lib\\site-packages\\pandas\\_libs\\index.pyx\u001b[0m in \u001b[0;36mpandas._libs.index.IndexEngine.get_loc\u001b[1;34m()\u001b[0m\n",
            "\u001b[1;31mTypeError\u001b[0m: '(slice(None, None, None), slice(None, None, None))' is an invalid key"
          ]
        }
      ],
      "source": [
        "# Informative filtering-- pass each feature and all cells through logistic regression. \n",
        "# Look at score after each. See which features are most important (highest statistic)\n",
        "# Drop genes with low predictive value. \n",
        "list_X = []\n",
        "for i in range(X.shape[1]):\n",
        "  X_i = X[:,:]\n",
        "  X_i = X_i.reshape(-1,1)\n",
        "  list_X.append(X_i)\n",
        "\n",
        "print(list_X[0])"
      ]
    },
    {
      "cell_type": "code",
      "execution_count": null,
      "metadata": {
        "id": "8frOwEEfMuiQ"
      },
      "outputs": [],
      "source": [
        "list_scores = []\n",
        "\n",
        "for i in range(len(list_X)):\n",
        "  clf = LogisticRegression(random_state=0).fit(list_X[i],y_binary)\n",
        "  score = clf.score(list_X[i],y_binary)\n",
        "  list_scores.append(score)"
      ]
    },
    {
      "cell_type": "code",
      "execution_count": null,
      "metadata": {
        "colab": {
          "base_uri": "https://localhost:8080/"
        },
        "id": "PzvKEVi_mf76",
        "outputId": "545f58df-bab3-407d-ac9c-4ab5cb22f408"
      },
      "outputs": [
        {
          "name": "stdout",
          "output_type": "stream",
          "text": [
            "0.7082151001862717\n"
          ]
        }
      ],
      "source": [
        "X1 = X[:,4].reshape(-1,1)\n",
        "clf = LogisticRegression(random_state=0).fit(X1,y_binary)\n",
        "score = clf.score(X1,y_binary)\n",
        "print(score)"
      ]
    },
    {
      "cell_type": "code",
      "execution_count": null,
      "metadata": {
        "colab": {
          "base_uri": "https://localhost:8080/"
        },
        "id": "Y_dexTYDcYwz",
        "outputId": "d0ef7c90-0208-4e8b-90de-ce3bdddc85ae"
      },
      "outputs": [
        {
          "data": {
            "text/plain": [
              "[0.7307417788068172,\n",
              " 0.7307417788068172,\n",
              " 0.7307417788068172,\n",
              " 0.73082882161447,\n",
              " 0.7082151001862717,\n",
              " 0.73269153769824,\n",
              " 0.7306025103145727,\n",
              " 0.7307417788068172,\n",
              " 0.7227686576258204,\n",
              " 0.7385059972494473]"
            ]
          },
          "execution_count": 255,
          "metadata": {},
          "output_type": "execute_result"
        }
      ],
      "source": [
        "list_scores"
      ]
    },
    {
      "cell_type": "code",
      "execution_count": null,
      "metadata": {
        "id": "KEShba9DchJC"
      },
      "outputs": [],
      "source": [
        "Crosstab between healthy cells, tumor cells, healthy patient, tumor patient\n",
        "(avals, xvals), count = crosstab(data['cell_type'], data['Source'])"
      ]
    },
    {
      "cell_type": "code",
      "execution_count": null,
      "metadata": {
        "colab": {
          "base_uri": "https://localhost:8080/"
        },
        "id": "5vx-wd6upot3",
        "outputId": "e40c665b-d8b1-4fa1-a6e8-e7acc6be5068"
      },
      "outputs": [
        {
          "data": {
            "text/plain": [
              "array([0, 1])"
            ]
          },
          "execution_count": 258,
          "metadata": {},
          "output_type": "execute_result"
        }
      ],
      "source": [
        "avals"
      ]
    },
    {
      "cell_type": "code",
      "execution_count": null,
      "metadata": {
        "colab": {
          "base_uri": "https://localhost:8080/"
        },
        "id": "QkWaPMxxpt_p",
        "outputId": "237fba0a-a883-4983-a926-14cae469ab64"
      },
      "outputs": [
        {
          "data": {
            "text/plain": [
              "array([0, 1])"
            ]
          },
          "execution_count": 259,
          "metadata": {},
          "output_type": "execute_result"
        }
      ],
      "source": [
        "xvals"
      ]
    },
    {
      "cell_type": "code",
      "execution_count": null,
      "metadata": {
        "colab": {
          "base_uri": "https://localhost:8080/"
        },
        "id": "ud4kY4vYpveg",
        "outputId": "b8675487-c996-4f9b-bade-2713d894bc1f"
      },
      "outputs": [
        {
          "data": {
            "text/plain": [
              "array([[15454, 30645],\n",
              "       [   13, 11331]])"
            ]
          },
          "execution_count": 260,
          "metadata": {},
          "output_type": "execute_result"
        }
      ],
      "source": [
        "count"
      ]
    },
    {
      "cell_type": "markdown",
      "metadata": {
        "id": "yo1PiFhjy8OF"
      },
      "source": [
        "# **Random Forrest**"
      ]
    },
    {
      "cell_type": "code",
      "execution_count": null,
      "metadata": {
        "id": "WbtqT4rQy-TE"
      },
      "outputs": [],
      "source": [
        "from sklearn.ensemble import RandomForestClassifier\n",
        "from sklearn.metrics import classification_report\n",
        "from sklearn.metrics import confusion_matrix\n",
        "from sklearn.metrics import accuracy_score"
      ]
    },
    {
      "cell_type": "code",
      "execution_count": null,
      "metadata": {
        "colab": {
          "base_uri": "https://localhost:8080/"
        },
        "id": "FV6t29nizBG1",
        "outputId": "ab8dda2b-88a2-4c01-8811-8fc5e7cda10c"
      },
      "outputs": [
        {
          "output_type": "stream",
          "name": "stdout",
          "text": [
            "[0 0 0 ... 0 0 0]\n"
          ]
        }
      ],
      "source": [
        "# Run model\n",
        "#clf_rf = RandomForestClassifier(max_depth=2, random_state=0)\n",
        "clf_rf = RandomForestClassifier(n_estimators = 10, criterion = 'entropy', random_state = 42)\n",
        "clf_rf.fit(X_Train, Y_Train)\n",
        "predicted_rf = clf_rf.predict(X_Test)\n",
        "print(clf_rf.predict(X_Test))"
      ]
    },
    {
      "cell_type": "code",
      "execution_count": null,
      "metadata": {
        "colab": {
          "base_uri": "https://localhost:8080/"
        },
        "id": "HAmFQxsC1shy",
        "outputId": "45c81a23-279f-4c08-c292-c4c908b2ce84"
      },
      "outputs": [
        {
          "output_type": "stream",
          "name": "stdout",
          "text": [
            "Train set Accuracy:  0.9990145739328873\n",
            "Test set Accuracy:  0.9722049367351172\n"
          ]
        }
      ],
      "source": [
        "from sklearn.metrics import accuracy_score\n",
        "print(\"Train set Accuracy: \", accuracy_score(Y_Train, clf_rf.predict(X_Train)))\n",
        "print(\"Test set Accuracy: \", accuracy_score(Y_Test, predicted_rf))"
      ]
    },
    {
      "cell_type": "code",
      "execution_count": null,
      "metadata": {
        "colab": {
          "base_uri": "https://localhost:8080/"
        },
        "id": "FLHxlUsV_u3J",
        "outputId": "7d1bb40c-fddf-4bc6-da25-12d1a103053b"
      },
      "outputs": [
        {
          "output_type": "stream",
          "name": "stdout",
          "text": [
            "              precision    recall  f1-score   support\n",
            "\n",
            "           0       0.97      0.99      0.98      3966\n",
            "           1       0.97      0.92      0.95       696\n",
            "           2       0.91      0.69      0.78       159\n",
            "\n",
            "    accuracy                           0.97      4821\n",
            "   macro avg       0.95      0.87      0.90      4821\n",
            "weighted avg       0.97      0.97      0.97      4821\n",
            "\n",
            "[[3936   19   11]\n",
            " [  54  642    0]\n",
            " [  50    0  109]]\n"
          ]
        }
      ],
      "source": [
        "print(classification_report(Y_Test,predicted_rf))\n",
        "print(confusion_matrix(Y_Test,predicted_rf))"
      ]
    },
    {
      "cell_type": "code",
      "execution_count": null,
      "metadata": {
        "colab": {
          "base_uri": "https://localhost:8080/",
          "height": 313
        },
        "id": "G4njrW4O_u3J",
        "outputId": "1522a6dd-587f-439c-a552-19b0e397d4f8"
      },
      "outputs": [
        {
          "output_type": "execute_result",
          "data": {
            "text/plain": [
              "Text(0.5, 15.0, 'Prediction')"
            ]
          },
          "metadata": {},
          "execution_count": 29
        },
        {
          "output_type": "display_data",
          "data": {
            "text/plain": [
              "<Figure size 432x288 with 2 Axes>"
            ],
            "image/png": "[encoded data removed]"
          },
          "metadata": {
            "needs_background": "light"
          }
        }
      ],
      "source": [
        "cm = confusion_matrix(Y_Test, predicted_rf)\n",
        "sns.heatmap(cm, annot=True)\n",
        "plt.title(('Confusion Matrix'))\n",
        "plt.ylabel('Ground Truth')\n",
        "plt.xlabel('Prediction')"
      ]
    },
    {
      "cell_type": "code",
      "source": [
        "# save model\n",
        "import pickle\n",
        "pickle.dump(clf_rf, open(directory+'rf_model_first_9pt.sav', 'wb'))"
      ],
      "metadata": {
        "id": "_OGefnBM8sOx"
      },
      "execution_count": null,
      "outputs": []
    },
    {
      "cell_type": "markdown",
      "metadata": {
        "id": "2sOjUAjxTKbj"
      },
      "source": [
        "# **SVM**"
      ]
    },
    {
      "cell_type": "code",
      "execution_count": null,
      "metadata": {
        "id": "suzuMbrsL6QW"
      },
      "outputs": [],
      "source": [
        "from sklearn import svm\n",
        "from sklearn.model_selection import train_test_split\n",
        "from sklearn.inspection import permutation_importance\n",
        "import matplotlib.pyplot as plt\n",
        "%matplotlib inline"
      ]
    },
    {
      "cell_type": "code",
      "source": [
        "from matplotlib.pyplot import figure"
      ],
      "metadata": {
        "id": "3ETxVieN8dw0"
      },
      "execution_count": null,
      "outputs": []
    },
    {
      "cell_type": "code",
      "source": [
        "clf_svm = svm.SVC(kernel= 'linear')\n",
        "clf_svm.fit(X_Train,Y_Train)"
      ],
      "metadata": {
        "colab": {
          "base_uri": "https://localhost:8080/"
        },
        "id": "CL1jcLqD8aVx",
        "outputId": "fd905f29-5554-4bda-b3d9-b982dd952589"
      },
      "execution_count": null,
      "outputs": [
        {
          "output_type": "execute_result",
          "data": {
            "text/plain": [
              "SVC(kernel='linear')"
            ]
          },
          "metadata": {},
          "execution_count": 21
        }
      ]
    },
    {
      "cell_type": "code",
      "execution_count": null,
      "metadata": {
        "id": "tx_7WE8h_u3J"
      },
      "outputs": [],
      "source": [
        "#features_names = df.columns[1:19001].to_numpy() #feature names"
      ]
    },
    {
      "cell_type": "code",
      "execution_count": null,
      "metadata": {
        "id": "b_9BksM_SuXM"
      },
      "outputs": [],
      "source": [
        "# show top #(num_features) important features for coef. set coef[0], coef[1], or coef[2] to see each class.\n",
        "def f_importances(coef,names,num_features):\n",
        "    sorted_idx = coef.argsort()\n",
        "    names = features_names[sorted_idx]\n",
        "    coef_s = coef[sorted_idx]\n",
        "    np.save(directory+'SVM_features_2_class', names[-num_features:])\n",
        "    plt.barh(names[-100:], coef_s[-100:])\n",
        "    plt.xlabel(\"Feature Importance\")\n",
        "    plt.rcParams['figure.figsize'] = [26, 23]\n",
        "    plt.savefig(directory+'SVM_coef_2_class.png', dpi= 100)\n",
        "    plt.show()\n",
        "\n",
        "    # uncomment for barplot"
      ]
    },
    {
      "cell_type": "code",
      "source": [
        "# get 4,700 for 3 class new dataset\n",
        "# get 14,100 for 2 class\n",
        "f_importances(clf_svm.coef_[0], features_names, 14100)"
      ],
      "metadata": {
        "id": "pf5ntw9Qo3nA",
        "colab": {
          "base_uri": "https://localhost:8080/",
          "height": 999
        },
        "outputId": "399a0865-ad2c-4bcf-d45a-70dd99b9fd28"
      },
      "execution_count": null,
      "outputs": [
        {
          "output_type": "display_data",
          "data": {
            "text/plain": [
              "<Figure size 1872x1656 with 1 Axes>"
            ],
            "image/png": "[encoded data removed]"
          },
          "metadata": {
            "needs_background": "light"
          }
        }
      ]
    },
    {
      "cell_type": "code",
      "source": [
        "f_importances(clf_svm.coef_[1], features_names, 4700)"
      ],
      "metadata": {
        "id": "bsgNoohZo4VQ",
        "colab": {
          "base_uri": "https://localhost:8080/",
          "height": 166
        },
        "outputId": "34d8c3c2-de28-4ebe-e991-70a3e7d3f367"
      },
      "execution_count": null,
      "outputs": [
        {
          "output_type": "error",
          "ename": "IndexError",
          "evalue": "ignored",
          "traceback": [
            "\u001b[0;31m---------------------------------------------------------------------------\u001b[0m",
            "\u001b[0;31mIndexError\u001b[0m                                Traceback (most recent call last)",
            "\u001b[0;32m<ipython-input-26-602bc078e6fc>\u001b[0m in \u001b[0;36m<module>\u001b[0;34m()\u001b[0m\n\u001b[0;32m----> 1\u001b[0;31m \u001b[0mf_importances\u001b[0m\u001b[0;34m(\u001b[0m\u001b[0mclf_svm\u001b[0m\u001b[0;34m.\u001b[0m\u001b[0mcoef_\u001b[0m\u001b[0;34m[\u001b[0m\u001b[0;36m1\u001b[0m\u001b[0;34m]\u001b[0m\u001b[0;34m,\u001b[0m \u001b[0mfeatures_names\u001b[0m\u001b[0;34m,\u001b[0m \u001b[0;36m4700\u001b[0m\u001b[0;34m)\u001b[0m\u001b[0;34m\u001b[0m\u001b[0;34m\u001b[0m\u001b[0m\n\u001b[0m",
            "\u001b[0;31mIndexError\u001b[0m: index 1 is out of bounds for axis 0 with size 1"
          ]
        }
      ]
    },
    {
      "cell_type": "code",
      "source": [
        "f_importances(clf_svm.coef_[2], features_names, 4700)"
      ],
      "metadata": {
        "id": "3eQneSs1o44v"
      },
      "execution_count": null,
      "outputs": []
    },
    {
      "cell_type": "markdown",
      "source": [
        "save most important features w/ cells as separate file"
      ],
      "metadata": {
        "id": "M0dchmtjByvZ"
      }
    },
    {
      "cell_type": "code",
      "source": [
        "features = np.load(directory+'SVM_features_2_class.npy', allow_pickle=True)"
      ],
      "metadata": {
        "id": "KNfUf0c1Bi3n"
      },
      "execution_count": null,
      "outputs": []
    },
    {
      "cell_type": "code",
      "source": [
        "df_features = df[features]"
      ],
      "metadata": {
        "id": "EgOxifylJEPv"
      },
      "execution_count": null,
      "outputs": []
    },
    {
      "cell_type": "code",
      "source": [
        "df_features.to_pickle(directory+'df_features_2_class_ALL.pkl')"
      ],
      "metadata": {
        "id": "ofQ7CK3kJaBX"
      },
      "execution_count": null,
      "outputs": []
    },
    {
      "cell_type": "markdown",
      "source": [
        "back to model"
      ],
      "metadata": {
        "id": "wQFc2ZD7Jd2n"
      }
    },
    {
      "cell_type": "code",
      "execution_count": null,
      "metadata": {
        "id": "pTL1W8zEX4ry"
      },
      "outputs": [],
      "source": [
        "# train SVm model\n",
        "predicted=clf_svm.predict(X_Test)"
      ]
    },
    {
      "cell_type": "code",
      "execution_count": null,
      "metadata": {
        "id": "6FoUV3CQBRfl"
      },
      "outputs": [],
      "source": [
        "from sklearn import metrics\n",
        "#print(\"Train set Accuracy: \", metrics.accuracy_score(Y_Train, clf_svm.predict(X_Train)))\n",
        "print(\"Test set Accuracy: \", metrics.accuracy_score(Y_Test, predicted))"
      ]
    },
    {
      "cell_type": "code",
      "source": [
        "from sklearn.metrics import classification_report\n",
        "from sklearn.metrics import confusion_matrix"
      ],
      "metadata": {
        "id": "2AU6Rf0Opn7p"
      },
      "execution_count": null,
      "outputs": []
    },
    {
      "cell_type": "code",
      "execution_count": null,
      "metadata": {
        "id": "MmF7UB2E_u3K",
        "outputId": "fa838c1f-b31d-4304-df68-9282040e67f2",
        "colab": {
          "base_uri": "https://localhost:8080/",
          "height": 183
        }
      },
      "outputs": [
        {
          "output_type": "error",
          "ename": "NameError",
          "evalue": "ignored",
          "traceback": [
            "\u001b[0;31m---------------------------------------------------------------------------\u001b[0m",
            "\u001b[0;31mNameError\u001b[0m                                 Traceback (most recent call last)",
            "\u001b[0;32m<ipython-input-31-8b7869cbe829>\u001b[0m in \u001b[0;36m<module>\u001b[0;34m()\u001b[0m\n\u001b[0;32m----> 1\u001b[0;31m \u001b[0mprint\u001b[0m\u001b[0;34m(\u001b[0m\u001b[0mclassification_report\u001b[0m\u001b[0;34m(\u001b[0m\u001b[0mY_Test\u001b[0m\u001b[0;34m,\u001b[0m\u001b[0mpredicted\u001b[0m\u001b[0;34m)\u001b[0m\u001b[0;34m)\u001b[0m\u001b[0;34m\u001b[0m\u001b[0;34m\u001b[0m\u001b[0m\n\u001b[0m\u001b[1;32m      2\u001b[0m \u001b[0mprint\u001b[0m\u001b[0;34m(\u001b[0m\u001b[0mconfusion_matrix\u001b[0m\u001b[0;34m(\u001b[0m\u001b[0mY_Test\u001b[0m\u001b[0;34m,\u001b[0m\u001b[0mpredicted\u001b[0m\u001b[0;34m)\u001b[0m\u001b[0;34m)\u001b[0m\u001b[0;34m\u001b[0m\u001b[0;34m\u001b[0m\u001b[0m\n",
            "\u001b[0;31mNameError\u001b[0m: name 'classification_report' is not defined"
          ]
        }
      ],
      "source": [
        "print(classification_report(Y_Test,predicted))\n",
        "print(confusion_matrix(Y_Test,predicted))"
      ]
    },
    {
      "cell_type": "code",
      "execution_count": null,
      "metadata": {
        "id": "zcaoSSDk_u3K",
        "outputId": "6efc3a10-b7b1-4dc8-a8e7-92e5da468f44",
        "colab": {
          "base_uri": "https://localhost:8080/",
          "height": 259
        }
      },
      "outputs": [
        {
          "output_type": "execute_result",
          "data": {
            "text/plain": [
              "Text(0.5, 6.0, 'Prediction')"
            ]
          },
          "metadata": {},
          "execution_count": 49
        },
        {
          "output_type": "display_data",
          "data": {
            "text/plain": [
              "<Figure size 360x216 with 2 Axes>"
            ],
            "image/png": "[encoded data removed]"
          },
          "metadata": {
            "needs_background": "light"
          }
        }
      ],
      "source": [
        "cm = confusion_matrix(Y_Test, predicted)\n",
        "sns.heatmap(cm, annot=True)\n",
        "plt.rcParams['figure.figsize'] = [3, 2]\n",
        "plt.title(('Confusion Matrix'))\n",
        "plt.ylabel('Ground Truth')\n",
        "plt.xlabel('Prediction')"
      ]
    },
    {
      "cell_type": "code",
      "source": [
        "# save model\n",
        "import pickle\n",
        "pickle.dump(clf_svm, open(directory+'svm_linear_model_first_9pt.sav', 'wb'))"
      ],
      "metadata": {
        "id": "KryyOKFW6bX8"
      },
      "execution_count": null,
      "outputs": []
    },
    {
      "cell_type": "code",
      "source": [
        "# load model\n",
        "clf_svm = pickle.load(open(filename, 'rb'))"
      ],
      "metadata": {
        "id": "tofFh8nODtei"
      },
      "execution_count": null,
      "outputs": []
    },
    {
      "cell_type": "markdown",
      "source": [
        "Retrain model with just most informative genes"
      ],
      "metadata": {
        "id": "FL_FjYvrtXbq"
      }
    },
    {
      "cell_type": "markdown",
      "metadata": {
        "id": "anroyQzl_u3K"
      },
      "source": [
        "## **KNN**"
      ]
    },
    {
      "cell_type": "code",
      "execution_count": null,
      "metadata": {
        "id": "XhZT3JI0_u3K",
        "outputId": "ed3eac60-e5f9-4d7d-e043-96f0d23b95f3",
        "colab": {
          "base_uri": "https://localhost:8080/"
        }
      },
      "outputs": [
        {
          "output_type": "execute_result",
          "data": {
            "text/plain": [
              "KNeighborsClassifier(n_neighbors=4)"
            ]
          },
          "metadata": {},
          "execution_count": 29
        }
      ],
      "source": [
        "from sklearn.neighbors import KNeighborsClassifier\n",
        "\n",
        "k = 4\n",
        "#Train Model and Predict \n",
        "neigh = KNeighborsClassifier(n_neighbors = k).fit(X_Train,Y_Train)\n",
        "neigh"
      ]
    },
    {
      "cell_type": "code",
      "execution_count": null,
      "metadata": {
        "id": "-nCzCG5R_u3K",
        "outputId": "b4ea4646-af0b-4eb0-d333-b3432e05f52e",
        "colab": {
          "base_uri": "https://localhost:8080/"
        }
      },
      "outputs": [
        {
          "output_type": "execute_result",
          "data": {
            "text/plain": [
              "array([0, 0, 0, 0, 0])"
            ]
          },
          "metadata": {},
          "execution_count": 18
        }
      ],
      "source": [
        "# yhat = knn_model.predict(X_Test)\n",
        "yhat = knn_model.predict(small_df_test_X)\n",
        "yhat[0:5]"
      ]
    },
    {
      "cell_type": "code",
      "execution_count": null,
      "metadata": {
        "id": "f1F_wMaA_u3K",
        "outputId": "adbf7796-54f9-4d8c-943f-172d6c0dd71a",
        "colab": {
          "base_uri": "https://localhost:8080/"
        }
      },
      "outputs": [
        {
          "output_type": "stream",
          "name": "stdout",
          "text": [
            "Train set Accuracy:  0.9677921269643691\n",
            "Test set Accuracy:  0.936320265505082\n"
          ]
        }
      ],
      "source": [
        "from sklearn import metrics\n",
        "#print(\"Train set Accuracy: \", metrics.accuracy_score(Y_Train, neigh.predict(X_Train)))\n",
        "print(\"Test set Accuracy: \", metrics.accuracy_score(Y_Test, yhat))"
      ]
    },
    {
      "cell_type": "code",
      "execution_count": null,
      "metadata": {
        "id": "X9lvaPJV_u3K",
        "outputId": "ce9bbc48-7cc8-4c70-cb8d-f78c86f10275",
        "colab": {
          "base_uri": "https://localhost:8080/"
        }
      },
      "outputs": [
        {
          "output_type": "execute_result",
          "data": {
            "text/plain": [
              "array([0.87222568, 0.9334163 , 0.88861232, 0.93632027, 0.91723709,\n",
              "       0.92885294, 0.91619996, 0.92594897, 0.91557768])"
            ]
          },
          "metadata": {},
          "execution_count": 22
        }
      ],
      "source": [
        "Ks = 10\n",
        "mean_acc = np.zeros((Ks-1))\n",
        "std_acc = np.zeros((Ks-1))\n",
        "\n",
        "for n in range(1,Ks):\n",
        "    \n",
        "    #Train Model and Predict \n",
        "    neigh = KNeighborsClassifier(n_neighbors = n).fit(X_Train,Y_Train)\n",
        "    yhat=neigh.predict(X_Test)\n",
        "    mean_acc[n-1] = metrics.accuracy_score(Y_Test, yhat)\n",
        " \n",
        "    std_acc[n-1]=np.std(yhat==Y_Test)/np.sqrt(yhat.shape[0])\n",
        "    \n",
        "mean_acc"
      ]
    },
    {
      "cell_type": "code",
      "execution_count": null,
      "metadata": {
        "id": "g_58D82J_u3L",
        "outputId": "90de6181-8072-4b82-c97f-0a71114b6e58",
        "colab": {
          "base_uri": "https://localhost:8080/",
          "height": 297
        }
      },
      "outputs": [
        {
          "output_type": "display_data",
          "data": {
            "text/plain": [
              "<Figure size 432x288 with 1 Axes>"
            ],
            "image/png": "[encoded data removed]"
          },
          "metadata": {
            "needs_background": "light"
          }
        }
      ],
      "source": [
        "plt.plot(range(1,Ks),mean_acc,'g')\n",
        "plt.fill_between(range(1,Ks),mean_acc - 1 * std_acc,mean_acc + 1 * std_acc, alpha=0.10)\n",
        "plt.fill_between(range(1,Ks),mean_acc - 3 * std_acc,mean_acc + 3 * std_acc, alpha=0.10,color=\"green\")\n",
        "plt.legend(('Accuracy ', '+/- 1xstd','+/- 3xstd'))\n",
        "plt.ylabel('Accuracy ')\n",
        "plt.xlabel('Number of Neighbors (K)')\n",
        "plt.tight_layout()\n",
        "plt.show()"
      ]
    },
    {
      "cell_type": "code",
      "execution_count": null,
      "metadata": {
        "id": "-peSUkc3_u3L",
        "outputId": "890b8528-523a-4e7f-835a-4207ef977555",
        "colab": {
          "base_uri": "https://localhost:8080/"
        }
      },
      "outputs": [
        {
          "output_type": "stream",
          "name": "stdout",
          "text": [
            "The best accuracy was with 0.936320265505082 with k= 4\n"
          ]
        }
      ],
      "source": [
        "print( \"The best accuracy was with\", mean_acc.max(), \"with k=\", mean_acc.argmax()+1)"
      ]
    },
    {
      "cell_type": "code",
      "source": [
        "from sklearn.metrics import classification_report\n",
        "from sklearn.metrics import confusion_matrix"
      ],
      "metadata": {
        "id": "dhtvDTGtBpZk"
      },
      "execution_count": null,
      "outputs": []
    },
    {
      "cell_type": "code",
      "source": [
        "print(classification_report(small_df_test_Y,yhat))\n",
        "print(confusion_matrix(small_df_test_Y,yhat))"
      ],
      "metadata": {
        "colab": {
          "base_uri": "https://localhost:8080/"
        },
        "id": "oGnXxxXrXT3e",
        "outputId": "835b19ad-0b6f-44b4-e823-29e3e69f1ddd"
      },
      "execution_count": null,
      "outputs": [
        {
          "output_type": "stream",
          "name": "stdout",
          "text": [
            "              precision    recall  f1-score   support\n",
            "\n",
            "           0       0.99      0.89      0.94     14138\n",
            "           1       0.94      0.98      0.96      3708\n",
            "           2       0.44      0.99      0.61      1043\n",
            "\n",
            "    accuracy                           0.91     18889\n",
            "   macro avg       0.79      0.96      0.84     18889\n",
            "weighted avg       0.95      0.91      0.93     18889\n",
            "\n",
            "[[12593   232  1313]\n",
            " [   65  3642     1]\n",
            " [    6     0  1037]]\n"
          ]
        }
      ]
    },
    {
      "cell_type": "code",
      "source": [
        "cm = confusion_matrix(Y_Test, yhat)\n",
        "sns.heatmap(cm, annot=True)\n",
        "plt.rcParams['figure.figsize'] = [3, 2]\n",
        "plt.title(('Confusion Matrix'))\n",
        "plt.ylabel('Ground Truth')\n",
        "plt.xlabel('Prediction')"
      ],
      "metadata": {
        "colab": {
          "base_uri": "https://localhost:8080/",
          "height": 313
        },
        "id": "Ocz7cwAtXYw-",
        "outputId": "c706dc9f-72fd-41e1-f799-60a7acd87999"
      },
      "execution_count": null,
      "outputs": [
        {
          "output_type": "execute_result",
          "data": {
            "text/plain": [
              "Text(0.5, 15.0, 'Prediction')"
            ]
          },
          "metadata": {},
          "execution_count": 36
        },
        {
          "output_type": "display_data",
          "data": {
            "text/plain": [
              "<Figure size 432x288 with 2 Axes>"
            ],
            "image/png": "[encoded data removed]"
          },
          "metadata": {
            "needs_background": "light"
          }
        }
      ]
    },
    {
      "cell_type": "code",
      "source": [
        "# save model\n",
        "import pickle\n",
        "pickle.dump(neigh, open(directory+'knn_model_first_9pt.sav', 'wb'))"
      ],
      "metadata": {
        "id": "D4x_anUtXbp2"
      },
      "execution_count": null,
      "outputs": []
    },
    {
      "cell_type": "code",
      "source": [
        "# load model\n",
        "# import pickle\n",
        "# knn_model = pickle.load(open(directory+'knn_model_first_9pt.sav', 'rb'))"
      ],
      "metadata": {
        "id": "mPLZ5lNj4bSF"
      },
      "execution_count": null,
      "outputs": []
    },
    {
      "cell_type": "markdown",
      "metadata": {
        "id": "oSJX4wdE_u3L"
      },
      "source": [
        "## **SVM rbg kernel-- not used**"
      ]
    },
    {
      "cell_type": "code",
      "execution_count": null,
      "metadata": {
        "id": "e9LTNiSE_u3L",
        "outputId": "7aadfe4b-c194-4e3d-d6a6-46ec77ffca7f"
      },
      "outputs": [
        {
          "data": {
            "text/plain": [
              "SVC()"
            ]
          },
          "execution_count": 354,
          "metadata": {},
          "output_type": "execute_result"
        }
      ],
      "source": [
        "rbf_svm = svm.SVC(kernel='rbf')\n",
        "rbf_svm.fit(X_Train,Y_Train)"
      ]
    },
    {
      "cell_type": "code",
      "execution_count": null,
      "metadata": {
        "id": "tvCX9kfe_u3L"
      },
      "outputs": [],
      "source": [
        "predicted = rbf_svm.predict(X_Test)"
      ]
    },
    {
      "cell_type": "code",
      "execution_count": null,
      "metadata": {
        "id": "gP3bYQTj_u3L",
        "outputId": "229abf18-626d-4906-ee68-480998f06793"
      },
      "outputs": [
        {
          "data": {
            "text/plain": [
              "0.206266318537859"
            ]
          },
          "execution_count": 360,
          "metadata": {},
          "output_type": "execute_result"
        }
      ],
      "source": [
        "accuracy = accuracy_score(Y_Test, predicted)\n",
        "accuracy"
      ]
    },
    {
      "cell_type": "code",
      "execution_count": null,
      "metadata": {
        "id": "xCZxRcu9_u3L",
        "outputId": "b1621848-75b2-4595-a4c7-85d23a651836"
      },
      "outputs": [
        {
          "name": "stdout",
          "output_type": "stream",
          "text": [
            "0.206266318537859\n",
            "              precision    recall  f1-score   support\n",
            "\n",
            "           0       0.00      0.00      0.00       858\n",
            "           1       0.21      1.00      0.34       237\n",
            "           2       0.00      0.00      0.00        54\n",
            "\n",
            "    accuracy                           0.21      1149\n",
            "   macro avg       0.07      0.33      0.11      1149\n",
            "weighted avg       0.04      0.21      0.07      1149\n",
            "\n",
            "[[  0 858   0]\n",
            " [  0 237   0]\n",
            " [  0  54   0]]\n"
          ]
        },
        {
          "name": "stderr",
          "output_type": "stream",
          "text": [
            "C:\\Users\\emili\\anaconda3\\lib\\site-packages\\sklearn\\metrics\\_classification.py:1248: UndefinedMetricWarning: Precision and F-score are ill-defined and being set to 0.0 in labels with no predicted samples. Use `zero_division` parameter to control this behavior.\n",
            "  _warn_prf(average, modifier, msg_start, len(result))\n",
            "C:\\Users\\emili\\anaconda3\\lib\\site-packages\\sklearn\\metrics\\_classification.py:1248: UndefinedMetricWarning: Precision and F-score are ill-defined and being set to 0.0 in labels with no predicted samples. Use `zero_division` parameter to control this behavior.\n",
            "  _warn_prf(average, modifier, msg_start, len(result))\n",
            "C:\\Users\\emili\\anaconda3\\lib\\site-packages\\sklearn\\metrics\\_classification.py:1248: UndefinedMetricWarning: Precision and F-score are ill-defined and being set to 0.0 in labels with no predicted samples. Use `zero_division` parameter to control this behavior.\n",
            "  _warn_prf(average, modifier, msg_start, len(result))\n"
          ]
        }
      ],
      "source": [
        "print(accuracy_score(Y_Test,predicted))\n",
        "print(classification_report(Y_Test,predicted))\n",
        "print(confusion_matrix(Y_Test,predicted))"
      ]
    },
    {
      "cell_type": "code",
      "execution_count": null,
      "metadata": {
        "id": "CpgPeDLJ_u3L",
        "outputId": "8731bf11-af68-462e-fec1-12ed891b0c5a"
      },
      "outputs": [
        {
          "data": {
            "text/plain": [
              "Text(0.5, 15.0, 'Prediction')"
            ]
          },
          "execution_count": 358,
          "metadata": {},
          "output_type": "execute_result"
        },
        {
          "data": {
            "image/png": "[encoded data removed]",
            "text/plain": [
              "<Figure size 432x288 with 2 Axes>"
            ]
          },
          "metadata": {},
          "output_type": "display_data"
        }
      ],
      "source": [
        "cm = confusion_matrix(Y_Test, predicted)\n",
        "sns.heatmap(cm, annot=True)\n",
        "plt.title(('Confusion Matrix'))\n",
        "plt.ylabel('Ground Truth')\n",
        "plt.xlabel('Prediction')"
      ]
    },
    {
      "cell_type": "markdown",
      "metadata": {
        "id": "6yvwNVbh_u3L"
      },
      "source": [
        "# **svm.NuSVM -- not used**"
      ]
    },
    {
      "cell_type": "code",
      "execution_count": null,
      "metadata": {
        "id": "fLeXf1y9_u3L",
        "outputId": "9693baa2-e319-4f83-fd16-968771a1b147"
      },
      "outputs": [
        {
          "data": {
            "text/plain": [
              "Pipeline(steps=[('standardscaler', StandardScaler()), ('nusvc', NuSVC())])"
            ]
          },
          "execution_count": 348,
          "metadata": {},
          "output_type": "execute_result"
        }
      ],
      "source": [
        "from sklearn.pipeline import Pipeline\n",
        "from sklearn.pipeline import make_pipeline\n",
        "from sklearn.preprocessing import StandardScaler\n",
        "from sklearn.svm import NuSVC\n",
        "clf_nusvm = make_pipeline(StandardScaler(), NuSVC())\n",
        "clf_nusvm.fit(X_Train, Y_Train)\n",
        "Pipeline(steps=[('standardscaler', StandardScaler()), ('nusvc', NuSVC())])"
      ]
    },
    {
      "cell_type": "code",
      "execution_count": null,
      "metadata": {
        "id": "VoN6D7GJ_u3M"
      },
      "outputs": [],
      "source": [
        "predicted = clf_nusvm.predict(X_Test)"
      ]
    },
    {
      "cell_type": "code",
      "execution_count": null,
      "metadata": {
        "id": "GZbLld9R_u3M",
        "outputId": "ff04ebf2-6aab-462e-dfa6-34a3b4edd8c0"
      },
      "outputs": [
        {
          "data": {
            "text/plain": [
              "0.206266318537859"
            ]
          },
          "execution_count": 350,
          "metadata": {},
          "output_type": "execute_result"
        }
      ],
      "source": [
        "from sklearn.metrics import accuracy_score\n",
        "accuracy = accuracy_score(Y_Test, predicted)\n",
        "accuracy"
      ]
    },
    {
      "cell_type": "code",
      "execution_count": null,
      "metadata": {
        "id": "kMgYugGQ_u3M",
        "outputId": "77d7d3a8-e098-4b17-c4d2-8912e4c27179"
      },
      "outputs": [
        {
          "name": "stdout",
          "output_type": "stream",
          "text": [
            "0.206266318537859\n",
            "              precision    recall  f1-score   support\n",
            "\n",
            "           0       0.00      0.00      0.00       858\n",
            "           1       0.21      1.00      0.34       237\n",
            "           2       0.00      0.00      0.00        54\n",
            "\n",
            "    accuracy                           0.21      1149\n",
            "   macro avg       0.07      0.33      0.11      1149\n",
            "weighted avg       0.04      0.21      0.07      1149\n",
            "\n",
            "[[  0 858   0]\n",
            " [  0 237   0]\n",
            " [  0  54   0]]\n"
          ]
        },
        {
          "name": "stderr",
          "output_type": "stream",
          "text": [
            "C:\\Users\\emili\\anaconda3\\lib\\site-packages\\sklearn\\metrics\\_classification.py:1248: UndefinedMetricWarning: Precision and F-score are ill-defined and being set to 0.0 in labels with no predicted samples. Use `zero_division` parameter to control this behavior.\n",
            "  _warn_prf(average, modifier, msg_start, len(result))\n",
            "C:\\Users\\emili\\anaconda3\\lib\\site-packages\\sklearn\\metrics\\_classification.py:1248: UndefinedMetricWarning: Precision and F-score are ill-defined and being set to 0.0 in labels with no predicted samples. Use `zero_division` parameter to control this behavior.\n",
            "  _warn_prf(average, modifier, msg_start, len(result))\n",
            "C:\\Users\\emili\\anaconda3\\lib\\site-packages\\sklearn\\metrics\\_classification.py:1248: UndefinedMetricWarning: Precision and F-score are ill-defined and being set to 0.0 in labels with no predicted samples. Use `zero_division` parameter to control this behavior.\n",
            "  _warn_prf(average, modifier, msg_start, len(result))\n"
          ]
        }
      ],
      "source": [
        "print(accuracy_score(Y_Test,predicted))\n",
        "print(classification_report(Y_Test,predicted))\n",
        "print(confusion_matrix(Y_Test,predicted))"
      ]
    },
    {
      "cell_type": "code",
      "execution_count": null,
      "metadata": {
        "id": "FNafw2hi_u3M",
        "outputId": "1b66a570-5fed-40ef-f74c-443613e847f0"
      },
      "outputs": [
        {
          "data": {
            "text/plain": [
              "Text(0.5, 15.0, 'Prediction')"
            ]
          },
          "execution_count": 352,
          "metadata": {},
          "output_type": "execute_result"
        },
        {
          "data": {
            "image/png": "[encoded data removed]",
            "text/plain": [
              "<Figure size 432x288 with 2 Axes>"
            ]
          },
          "metadata": {},
          "output_type": "display_data"
        }
      ],
      "source": [
        "cm = confusion_matrix(Y_Test, predicted)\n",
        "sns.heatmap(cm, annot=True)\n",
        "plt.title(('Confusion Matrix'))\n",
        "plt.ylabel('Ground Truth')\n",
        "plt.xlabel('Prediction')"
      ]
    },
    {
      "cell_type": "code",
      "source": [],
      "metadata": {
        "id": "jWOkPNUqZrA9"
      },
      "execution_count": null,
      "outputs": []
    },
    {
      "cell_type": "markdown",
      "source": [
        "# **Test on other half of dataset**"
      ],
      "metadata": {
        "id": "NH-gEDUDgw8J"
      }
    },
    {
      "cell_type": "code",
      "source": [
        "del clf_rf\n",
        "del cm\n",
        "del predicted"
      ],
      "metadata": {
        "id": "JHhHN9djq4Ec"
      },
      "execution_count": null,
      "outputs": []
    },
    {
      "cell_type": "code",
      "source": [
        "# load model\n",
        "import pickle\n",
        "clf_svm = pickle.load(open(directory+'svm_linear_model_first_9pt.sav', 'rb'))"
      ],
      "metadata": {
        "id": "LEQMoVODg1i4"
      },
      "execution_count": null,
      "outputs": []
    },
    {
      "cell_type": "code",
      "source": [
        "predicted=clf_knn.predict(small_df_test_X)"
      ],
      "metadata": {
        "id": "Jh9TUVPfhIZq"
      },
      "execution_count": null,
      "outputs": []
    },
    {
      "cell_type": "code",
      "source": [
        "# make small_df dataset to test on using code above\n",
        "from sklearn import metrics\n",
        "print(\"Test set Accuracy: \", metrics.accuracy_score(small_df_test_Y, predicted))"
      ],
      "metadata": {
        "colab": {
          "base_uri": "https://localhost:8080/"
        },
        "id": "rNaLEWzihcbD",
        "outputId": "fc84967c-b86e-4396-a2fc-40b8df546acf"
      },
      "execution_count": null,
      "outputs": [
        {
          "output_type": "stream",
          "name": "stdout",
          "text": [
            "Test set Accuracy:  0.9143946212081105\n"
          ]
        }
      ]
    },
    {
      "cell_type": "code",
      "source": [
        "from sklearn.metrics import classification_report\n",
        "from sklearn.metrics import confusion_matrix\n",
        "print(classification_report(small_df_test_Y,predicted))"
      ],
      "metadata": {
        "colab": {
          "base_uri": "https://localhost:8080/"
        },
        "id": "1sGkoND7hSiU",
        "outputId": "8a4488b2-7566-41d9-a8d2-0d205107135a"
      },
      "execution_count": null,
      "outputs": [
        {
          "output_type": "stream",
          "name": "stdout",
          "text": [
            "              precision    recall  f1-score   support\n",
            "\n",
            "           0       0.99      0.89      0.94     14138\n",
            "           1       0.94      0.98      0.96      3708\n",
            "           2       0.44      0.99      0.61      1043\n",
            "\n",
            "    accuracy                           0.91     18889\n",
            "   macro avg       0.79      0.96      0.84     18889\n",
            "weighted avg       0.95      0.91      0.93     18889\n",
            "\n"
          ]
        }
      ]
    },
    {
      "cell_type": "code",
      "source": [
        "cm = confusion_matrix(small_df_test_Y, predicted)\n",
        "sns.heatmap(cm, annot=True)\n",
        "plt.rcParams['figure.figsize'] = [3, 2]\n",
        "plt.title(('Confusion Matrix'))\n",
        "plt.ylabel('Ground Truth')\n",
        "plt.xlabel('Prediction')"
      ],
      "metadata": {
        "colab": {
          "base_uri": "https://localhost:8080/",
          "height": 205
        },
        "id": "YASWq5YChW07",
        "outputId": "7caeb222-89ee-417f-d73b-e19ce29311e3"
      },
      "execution_count": null,
      "outputs": [
        {
          "output_type": "execute_result",
          "data": {
            "text/plain": [
              "Text(0.5, -3.0, 'Prediction')"
            ]
          },
          "metadata": {},
          "execution_count": 77
        },
        {
          "output_type": "display_data",
          "data": {
            "text/plain": [
              "<Figure size 216x144 with 2 Axes>"
            ],
            "image/png": "[encoded data removed]"
          },
          "metadata": {
            "needs_background": "light"
          }
        }
      ]
    },
    {
      "cell_type": "markdown",
      "source": [
        "# **Test new dataset-- get features and corresponding cells **"
      ],
      "metadata": {
        "id": "5n6nbXzxducN"
      }
    },
    {
      "cell_type": "code",
      "source": [
        "# concatenate feature for new dataset PAAD GSE\n",
        "# 4,700 top features from each class\n",
        "features0 = np.load(directory+'SVM_features_0.npy', allow_pickle=True)\n",
        "features1 = np.load(directory+'SVM_features_1.npy', allow_pickle=True)\n",
        "features2 = np.load(directory+'SVM_features_2.npy', allow_pickle=True)\n",
        "features= np.concatenate((features0,features1,features2), axis=None)\n",
        "np.save(directory+'features_concat',features)"
      ],
      "metadata": {
        "id": "W50ATxGoduD2"
      },
      "execution_count": null,
      "outputs": []
    },
    {
      "cell_type": "code",
      "source": [
        "features_concat = np.load(directory+'features_concat.npy', allow_pickle=True)"
      ],
      "metadata": {
        "id": "vd_kDFAVwbtL"
      },
      "execution_count": null,
      "outputs": []
    },
    {
      "cell_type": "code",
      "source": [
        "df_features = df[features_concat]"
      ],
      "metadata": {
        "id": "JoMCuUP9SjDL"
      },
      "execution_count": null,
      "outputs": []
    },
    {
      "cell_type": "code",
      "source": [
        "df_features = np.save(directory+'df_features_2_class',features)"
      ],
      "metadata": {
        "id": "e3PB_GTOBR5b"
      },
      "execution_count": null,
      "outputs": []
    },
    {
      "cell_type": "code",
      "source": [
        "# save features dataframe with correct size to retest models\n",
        "df_features.to_pickle(directory+'df_features_2_class.pkl')"
      ],
      "metadata": {
        "id": "y3ZJZ82XUMd8"
      },
      "execution_count": null,
      "outputs": []
    }
  ],
  "metadata": {
    "colab": {
      "collapsed_sections": [
        "0nJgn-hnf8Hf",
        "wi4RzMnhGY3n",
        "yo1PiFhjy8OF",
        "2sOjUAjxTKbj"
      ],
      "machine_shape": "hm",
      "provenance": []
    },
    "kernelspec": {
      "display_name": "Python 3 (ipykernel)",
      "language": "python",
      "name": "python3"
    },
    "language_info": {
      "codemirror_mode": {
        "name": "ipython",
        "version": 3
      },
      "file_extension": ".py",
      "mimetype": "text/x-python",
      "name": "python",
      "nbconvert_exporter": "python",
      "pygments_lexer": "ipython3",
      "version": "3.9.7"
    }
  },
  "nbformat": 4,
  "nbformat_minor": 0
}